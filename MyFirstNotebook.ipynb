{
 "cells": [
  {
   "cell_type": "heading",
   "metadata": {},
   "level": 1,
   "source": [
    "First program"
   ]
  },
  {
   "cell_type": "markdown",
   "metadata": {},
   "source": [
    "-1 index in string provides the last element of the string.\n",
    "[num1:num2] is used for slicing a string.\n",
    "[::-1] reverses a string.\n"
   ]
  },
  {
   "cell_type": "code",
   "execution_count": 29,
   "metadata": {
    "collapsed": true
   },
   "outputs": [
    {
     "name": "stdout",
     "output_type": "stream",
     "text": [
      "hello \nworld\n11\nh\nd\nllo \ndlrow olleh\n"
     ]
    }
   ],
   "source": [
    "message = 'hello world'\n",
    "print('hello \\nworld')\n",
    "print(len(message))\n",
    "print(message[0])\n",
    "print(message[-1])\n",
    "print(message[2:6])\n",
    "print(message[::-1])"
   ]
  },
  {
   "cell_type": "heading",
   "metadata": {},
   "level": 1,
   "source": [
    "Immutability and string concatenation"
   ]
  },
  {
   "cell_type": "markdown",
   "metadata": {},
   "source": [
    "It is not possible to assign an element of a string by indexing."
   ]
  },
  {
   "cell_type": "code",
   "execution_count": 31,
   "metadata": {},
   "outputs": [],
   "source": [
    "name = 'Sam'"
   ]
  },
  {
   "cell_type": "code",
   "execution_count": null,
   "metadata": {},
   "outputs": [],
   "source": [
    "#name[0] = 'p'"
   ]
  },
  {
   "cell_type": "code",
   "execution_count": 46,
   "metadata": {},
   "outputs": [
    {
     "name": "stdout",
     "output_type": "stream",
     "text": [
      "ohn wick\nHello ohn wickHello ohn wickHello ohn wickHello ohn wickHello ohn wickHello ohn wickHello ohn wickHello ohn wickHello ohn wickHello ohn wick\n"
     ]
    }
   ],
   "source": [
    "last_letters = name[1:]\n",
    "print(last_letters)\n",
    "x = 'Hello ' + last_letters\n",
    "x *=10\n",
    "print(x)\n"
   ]
  },
  {
   "cell_type": "heading",
   "metadata": {},
   "level": 1,
   "source": [
    "String methods"
   ]
  },
  {
   "cell_type": "code",
   "execution_count": 47,
   "metadata": {},
   "outputs": [
    {
     "name": "stdout",
     "output_type": "stream",
     "text": [
      "HELLO OHN WICKHELLO OHN WICKHELLO OHN WICKHELLO OHN WICKHELLO OHN WICKHELLO OHN WICKHELLO OHN WICKHELLO OHN WICKHELLO OHN WICKHELLO OHN WICK\n"
     ]
    },
    {
     "data": {
      "text/plain": [
       "['John', 'wick']"
      ]
     },
     "execution_count": 47,
     "metadata": {},
     "output_type": "execute_result"
    }
   ],
   "source": [
    "x = x.upper()\n",
    "print(x)\n",
    "name = 'John wick'\n",
    "name.split()"
   ]
  },
  {
   "cell_type": "heading",
   "metadata": {},
   "level": 1,
   "source": [
    "Data Types"
   ]
  },
  {
   "cell_type": "markdown",
   "metadata": {},
   "source": [
    "\n",
    "Integers, Floating point, Strings, Lists, Dictionaries, Tuples, Sets, Booleans"
   ]
  },
  {
   "cell_type": "heading",
   "metadata": {},
   "level": 1,
   "source": [
    "For loop"
   ]
  },
  {
   "cell_type": "code",
   "execution_count": null,
   "metadata": {},
   "outputs": [],
   "source": [
    "for i in range(1,10,2):\n",
    "    print(i)"
   ]
  },
  {
   "cell_type": "code",
   "execution_count": null,
   "metadata": {},
   "outputs": [],
   "source": []
  }
 ],
 "metadata": {
  "kernelspec": {
   "display_name": "Python 2",
   "language": "python",
   "name": "python2"
  },
  "language_info": {
   "codemirror_mode": {
    "name": "ipython",
    "version": 2
   },
   "file_extension": ".py",
   "mimetype": "text/x-python",
   "name": "python",
   "nbconvert_exporter": "python",
   "pygments_lexer": "ipython2",
   "version": "2.7.6"
  }
 },
 "nbformat": 4,
 "nbformat_minor": 0
}
